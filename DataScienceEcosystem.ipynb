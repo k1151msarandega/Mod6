{
  "nbformat": 4,
  "nbformat_minor": 0,
  "metadata": {
    "colab": {
      "provenance": []
    },
    "kernelspec": {
      "name": "python3",
      "display_name": "Python 3"
    },
    "language_info": {
      "name": "python"
    }
  },
  "cells": [
    {
      "cell_type": "markdown",
      "source": [
        "# Data Science Tools and Ecosystem"
      ],
      "metadata": {
        "id": "lFaQJ7Tl2V_w"
      }
    },
    {
      "cell_type": "markdown",
      "source": [
        "In this notebook, Data Science Tools and Ecosystem are summarized."
      ],
      "metadata": {
        "id": "kflIQlH92qzm"
      }
    },
    {
      "cell_type": "markdown",
      "source": [
        "Some of the popular languages that Data Scientists use are:\n",
        "1. Python\n",
        "2. R\n",
        "3. Julia\n",
        "4. Scala\n",
        "5. Matlab\n",
        "6. SQL"
      ],
      "metadata": {
        "id": "xSaLbsuw3AW0"
      }
    },
    {
      "cell_type": "markdown",
      "source": [
        "Some of the commonly used libraries used by Data Scientists include:\n",
        "1. **NumPy**: NumPy is a fundamental library for scientific computing in Python. It provides support for large, multi-dimensional arrays and matrices, along with a wide range of mathematical functions to operate on these arrays efficiently.\n",
        "\n",
        "2. **TensorFlow**: TensorFlow is an open-source deep learning library that offers a flexible framework for building and training neural networks. It provides a variety of high-level APIs and tools for creating, training, and deploying machine learning models efficiently on various platforms.\n",
        "\n",
        "3. **Matplotlib**: Matplotlib is a widely used plotting library that enables the creation of static, animated, and interactive visualizations in Python. It provides a MATLAB-like interface for generating various types of plots, including line plots, scatter plots, histograms, bar plots, and more.\n",
        "\n",
        "4. **SciPy**: SciPy is a scientific computing library that builds upon NumPy. It offers a collection of modules for optimization, integration, interpolation, signal and image processing, linear algebra, and more. It also provides statistical functions and distributions. \n",
        "\n",
        "5. **Scikit-learn**: scikit-learn is a comprehensive machine learning library that provides a wide range of supervised and unsupervised learning algorithms. It includes modules for classification, regression, clustering, dimensionality reduction, model selection, and evaluation, making it a popular choice for machine learning tasks.\n",
        "\n",
        "6. **Pandas**: pandas is a versatile library that offers high-performance data manipulation and analysis tools. It provides data structures like DataFrames to handle structured data, along with functions for data cleaning, transformation, and merging.\n",
        "\n",
        "7. **Keras**: Keras is a user-friendly, high-level neural networks API that runs on top of TensorFlow. It simplifies the process of building deep learning models by providing intuitive abstractions and easy-to-use interfaces.\n",
        "\n",
        "8. **PyTorch**: PyTorch is another popular deep learning library known for its dynamic computational graphs and GPU acceleration capabilities. It offers a flexible and efficient framework for building and training neural networks, along with support for automatic differentiation.\n",
        "\n",
        "9. **Statsmodels**: Statsmodels is a library focused on statistical modeling and econometrics. It provides a wide range of statistical models, hypothesis tests, and statistical functions for analyzing data and conducting rigorous statistical analysis.\n",
        "\n",
        "10. **Seaborn**: seaborn is a data visualization library that is built on top of Matplotlib. It offers a high-level interface for creating attractive statistical graphics, providing additional functionalities and aesthetically pleasing default styles.\n"
      ],
      "metadata": {
        "id": "pPYQZhFp3Sxf"
      }
    },
    {
      "cell_type": "markdown",
      "source": [
        "|Data Science Tools|\n",
        "|------------------|\n",
        "|Jypter Notebooks|\n",
        "|RStudio|\n",
        "|Apache Zeppelin|"
      ],
      "metadata": {
        "id": "DnKe8LGM5qDv"
      }
    },
    {
      "cell_type": "markdown",
      "source": [
        "### Below are a few examples of evaluating arithmetic expressions in Python"
      ],
      "metadata": {
        "id": "4akYzrmG62Hs"
      }
    },
    {
      "cell_type": "code",
      "source": [
        "#This a simple arithmetic expression to mutiply then add integers\n",
        "(3*4)+5"
      ],
      "metadata": {
        "colab": {
          "base_uri": "https://localhost:8080/"
        },
        "id": "VmXh-JfN68A8",
        "outputId": "f0c1d669-2d8d-4bc7-b74e-b30c03833b72"
      },
      "execution_count": 1,
      "outputs": [
        {
          "output_type": "execute_result",
          "data": {
            "text/plain": [
              "17"
            ]
          },
          "metadata": {},
          "execution_count": 1
        }
      ]
    },
    {
      "cell_type": "code",
      "source": [
        "#This will convert 200 minutes to hours by diving by 60\n",
        "200 / 60"
      ],
      "metadata": {
        "colab": {
          "base_uri": "https://localhost:8080/"
        },
        "id": "jWZ7DGwS7NAt",
        "outputId": "c298fc32-3628-4f00-a58e-ddc89807e22d"
      },
      "execution_count": 2,
      "outputs": [
        {
          "output_type": "execute_result",
          "data": {
            "text/plain": [
              "3.3333333333333335"
            ]
          },
          "metadata": {},
          "execution_count": 2
        }
      ]
    },
    {
      "cell_type": "markdown",
      "source": [
        "**Objectives**\n",
        "\n",
        "*   List popular languages for Data Science\n",
        "*   List commonly used libraries used by Data Scientists\n",
        "*   Make a table of major data science tools\n",
        "*   Perform mathematical operations in Python\n",
        "\n"
      ],
      "metadata": {
        "id": "RunZ9z1c7i6B"
      }
    },
    {
      "cell_type": "markdown",
      "source": [
        "## Author\n",
        "Kudzai Musarandega"
      ],
      "metadata": {
        "id": "WW_eR0jF8dq_"
      }
    }
  ]
}